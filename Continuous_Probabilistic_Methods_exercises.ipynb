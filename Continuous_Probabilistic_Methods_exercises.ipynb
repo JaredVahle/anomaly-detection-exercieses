{
 "cells": [
  {
   "cell_type": "code",
   "execution_count": 21,
   "id": "e870efa4",
   "metadata": {},
   "outputs": [],
   "source": [
    "import numpy as np\n",
    "import pandas as pd\n",
    "import matplotlib.pyplot as plt\n",
    "import seaborn as sns\n",
    "import itertools"
   ]
  },
  {
   "cell_type": "code",
   "execution_count": 22,
   "id": "286faec9",
   "metadata": {},
   "outputs": [],
   "source": [
    "from pydataset import data"
   ]
  },
  {
   "cell_type": "code",
   "execution_count": 23,
   "id": "84f1a845",
   "metadata": {},
   "outputs": [],
   "source": [
    "url = 'https://gist.githubusercontent.com/ryanorsinger/19bc7eccd6279661bd13307026628ace/raw/e4b5d6787015a4782f96cad6d1d62a8bdbac54c7/lemonade.csv'\n",
    "\n",
    "df = pd.read_csv(url)"
   ]
  },
  {
   "cell_type": "code",
   "execution_count": 24,
   "id": "74b2d993",
   "metadata": {},
   "outputs": [
    {
     "data": {
      "text/html": [
       "<div>\n",
       "<style scoped>\n",
       "    .dataframe tbody tr th:only-of-type {\n",
       "        vertical-align: middle;\n",
       "    }\n",
       "\n",
       "    .dataframe tbody tr th {\n",
       "        vertical-align: top;\n",
       "    }\n",
       "\n",
       "    .dataframe thead th {\n",
       "        text-align: right;\n",
       "    }\n",
       "</style>\n",
       "<table border=\"1\" class=\"dataframe\">\n",
       "  <thead>\n",
       "    <tr style=\"text-align: right;\">\n",
       "      <th></th>\n",
       "      <th>Date</th>\n",
       "      <th>Day</th>\n",
       "      <th>Temperature</th>\n",
       "      <th>Rainfall</th>\n",
       "      <th>Flyers</th>\n",
       "      <th>Price</th>\n",
       "      <th>Sales</th>\n",
       "    </tr>\n",
       "  </thead>\n",
       "  <tbody>\n",
       "    <tr>\n",
       "      <th>0</th>\n",
       "      <td>1/1/17</td>\n",
       "      <td>Sunday</td>\n",
       "      <td>27.0</td>\n",
       "      <td>2.00</td>\n",
       "      <td>15</td>\n",
       "      <td>0.5</td>\n",
       "      <td>10</td>\n",
       "    </tr>\n",
       "    <tr>\n",
       "      <th>1</th>\n",
       "      <td>1/2/17</td>\n",
       "      <td>Monday</td>\n",
       "      <td>28.9</td>\n",
       "      <td>1.33</td>\n",
       "      <td>15</td>\n",
       "      <td>0.5</td>\n",
       "      <td>13</td>\n",
       "    </tr>\n",
       "    <tr>\n",
       "      <th>2</th>\n",
       "      <td>1/3/17</td>\n",
       "      <td>Tuesday</td>\n",
       "      <td>34.5</td>\n",
       "      <td>1.33</td>\n",
       "      <td>27</td>\n",
       "      <td>0.5</td>\n",
       "      <td>15</td>\n",
       "    </tr>\n",
       "    <tr>\n",
       "      <th>3</th>\n",
       "      <td>1/4/17</td>\n",
       "      <td>Wednesday</td>\n",
       "      <td>44.1</td>\n",
       "      <td>1.05</td>\n",
       "      <td>28</td>\n",
       "      <td>0.5</td>\n",
       "      <td>17</td>\n",
       "    </tr>\n",
       "    <tr>\n",
       "      <th>4</th>\n",
       "      <td>1/5/17</td>\n",
       "      <td>Thursday</td>\n",
       "      <td>42.4</td>\n",
       "      <td>1.00</td>\n",
       "      <td>33</td>\n",
       "      <td>0.5</td>\n",
       "      <td>18</td>\n",
       "    </tr>\n",
       "  </tbody>\n",
       "</table>\n",
       "</div>"
      ],
      "text/plain": [
       "     Date        Day  Temperature  Rainfall  Flyers  Price  Sales\n",
       "0  1/1/17     Sunday         27.0      2.00      15    0.5     10\n",
       "1  1/2/17     Monday         28.9      1.33      15    0.5     13\n",
       "2  1/3/17    Tuesday         34.5      1.33      27    0.5     15\n",
       "3  1/4/17  Wednesday         44.1      1.05      28    0.5     17\n",
       "4  1/5/17   Thursday         42.4      1.00      33    0.5     18"
      ]
     },
     "execution_count": 24,
     "metadata": {},
     "output_type": "execute_result"
    }
   ],
   "source": [
    "df.head()"
   ]
  },
  {
   "cell_type": "code",
   "execution_count": 25,
   "id": "ed45032d",
   "metadata": {},
   "outputs": [],
   "source": [
    "df['Date'] = pd.to_datetime(df.Date)"
   ]
  },
  {
   "cell_type": "code",
   "execution_count": 26,
   "id": "41f7b25f",
   "metadata": {},
   "outputs": [
    {
     "data": {
      "text/html": [
       "<div>\n",
       "<style scoped>\n",
       "    .dataframe tbody tr th:only-of-type {\n",
       "        vertical-align: middle;\n",
       "    }\n",
       "\n",
       "    .dataframe tbody tr th {\n",
       "        vertical-align: top;\n",
       "    }\n",
       "\n",
       "    .dataframe thead th {\n",
       "        text-align: right;\n",
       "    }\n",
       "</style>\n",
       "<table border=\"1\" class=\"dataframe\">\n",
       "  <thead>\n",
       "    <tr style=\"text-align: right;\">\n",
       "      <th></th>\n",
       "      <th>Date</th>\n",
       "      <th>Day</th>\n",
       "      <th>Temperature</th>\n",
       "      <th>Rainfall</th>\n",
       "      <th>Flyers</th>\n",
       "      <th>Price</th>\n",
       "      <th>Sales</th>\n",
       "    </tr>\n",
       "  </thead>\n",
       "  <tbody>\n",
       "    <tr>\n",
       "      <th>0</th>\n",
       "      <td>2017-01-01</td>\n",
       "      <td>Sunday</td>\n",
       "      <td>27.0</td>\n",
       "      <td>2.00</td>\n",
       "      <td>15</td>\n",
       "      <td>0.5</td>\n",
       "      <td>10</td>\n",
       "    </tr>\n",
       "    <tr>\n",
       "      <th>1</th>\n",
       "      <td>2017-01-02</td>\n",
       "      <td>Monday</td>\n",
       "      <td>28.9</td>\n",
       "      <td>1.33</td>\n",
       "      <td>15</td>\n",
       "      <td>0.5</td>\n",
       "      <td>13</td>\n",
       "    </tr>\n",
       "    <tr>\n",
       "      <th>2</th>\n",
       "      <td>2017-01-03</td>\n",
       "      <td>Tuesday</td>\n",
       "      <td>34.5</td>\n",
       "      <td>1.33</td>\n",
       "      <td>27</td>\n",
       "      <td>0.5</td>\n",
       "      <td>15</td>\n",
       "    </tr>\n",
       "    <tr>\n",
       "      <th>3</th>\n",
       "      <td>2017-01-04</td>\n",
       "      <td>Wednesday</td>\n",
       "      <td>44.1</td>\n",
       "      <td>1.05</td>\n",
       "      <td>28</td>\n",
       "      <td>0.5</td>\n",
       "      <td>17</td>\n",
       "    </tr>\n",
       "    <tr>\n",
       "      <th>4</th>\n",
       "      <td>2017-01-05</td>\n",
       "      <td>Thursday</td>\n",
       "      <td>42.4</td>\n",
       "      <td>1.00</td>\n",
       "      <td>33</td>\n",
       "      <td>0.5</td>\n",
       "      <td>18</td>\n",
       "    </tr>\n",
       "  </tbody>\n",
       "</table>\n",
       "</div>"
      ],
      "text/plain": [
       "        Date        Day  Temperature  Rainfall  Flyers  Price  Sales\n",
       "0 2017-01-01     Sunday         27.0      2.00      15    0.5     10\n",
       "1 2017-01-02     Monday         28.9      1.33      15    0.5     13\n",
       "2 2017-01-03    Tuesday         34.5      1.33      27    0.5     15\n",
       "3 2017-01-04  Wednesday         44.1      1.05      28    0.5     17\n",
       "4 2017-01-05   Thursday         42.4      1.00      33    0.5     18"
      ]
     },
     "execution_count": 26,
     "metadata": {},
     "output_type": "execute_result"
    }
   ],
   "source": [
    "df.head()"
   ]
  },
  {
   "cell_type": "code",
   "execution_count": 29,
   "id": "1e7c1b93",
   "metadata": {},
   "outputs": [
    {
     "data": {
      "image/png": "[encoded data removed]",
      "text/plain": [
       "<Figure size 432x288 with 1 Axes>"
      ]
     },
     "metadata": {
      "needs_background": "light"
     },
     "output_type": "display_data"
    },
    {
     "data": {
      "image/png": "[encoded data removed]",
      "text/plain": [
       "<Figure size 432x288 with 1 Axes>"
      ]
     },
     "metadata": {
      "needs_background": "light"
     },
     "output_type": "display_data"
    },
    {
     "data": {
      "image/png": "[encoded data removed]",
      "text/plain": [
       "<Figure size 432x288 with 1 Axes>"
      ]
     },
     "metadata": {
      "needs_background": "light"
     },
     "output_type": "display_data"
    },
    {
     "data": {
      "image/png": "[encoded data removed]",
      "text/plain": [
       "<Figure size 432x288 with 1 Axes>"
      ]
     },
     "metadata": {
      "needs_background": "light"
     },
     "output_type": "display_data"
    },
    {
     "data": {
      "image/png": "[encoded data removed]",
      "text/plain": [
       "<Figure size 432x288 with 1 Axes>"
      ]
     },
     "metadata": {
      "needs_background": "light"
     },
     "output_type": "display_data"
    }
   ],
   "source": [
    "# iterate through columns\n",
    "for col in df.columns:\n",
    "#     determine that it is a number type\n",
    "    if np.issubdtype(df[col].dtype, np.number):\n",
    "        sns.boxplot(data=df, x=col)\n",
    "        plt.show()"
   ]
  },
  {
   "cell_type": "markdown",
   "id": "f5472e92",
   "metadata": {},
   "source": [
    "## 1 Using lemonade.csv dataset and focusing on continuous variables:"
   ]
  },
  {
   "cell_type": "markdown",
   "id": "4055ad17",
   "metadata": {},
   "source": [
    "### a) Use the IQR Range Rule and the upper and lower bounds to identify the lower outliers of each column of lemonade.csv, using the multiplier of 1.5. Do these lower outliers make sense?Which outliers should be kept?"
   ]
  },
  {
   "cell_type": "code",
   "execution_count": 31,
   "id": "7517aebb",
   "metadata": {},
   "outputs": [
    {
     "data": {
      "text/plain": [
       "18.0"
      ]
     },
     "execution_count": 31,
     "metadata": {},
     "output_type": "execute_result"
    }
   ],
   "source": [
    "# start with an inner fence calculation\n",
    "multiplier = 1.5\n",
    "# calculate our q1 and q3\n",
    "q1 = df.Flyers.quantile(0.25)\n",
    "q3 = df.Flyers.quantile(0.75)\n",
    "iqr = q3 - q1\n",
    "iqr"
   ]
  },
  {
   "cell_type": "code",
   "execution_count": 32,
   "id": "dc465693",
   "metadata": {},
   "outputs": [],
   "source": [
    "inner_lower_fence = q1 - (multiplier * iqr)\n",
    "inner_upper_fence = q3 + (multiplier * iqr)"
   ]
  },
  {
   "cell_type": "code",
   "execution_count": 33,
   "id": "c71d1ddb",
   "metadata": {},
   "outputs": [
    {
     "data": {
      "text/html": [
       "<div>\n",
       "<style scoped>\n",
       "    .dataframe tbody tr th:only-of-type {\n",
       "        vertical-align: middle;\n",
       "    }\n",
       "\n",
       "    .dataframe tbody tr th {\n",
       "        vertical-align: top;\n",
       "    }\n",
       "\n",
       "    .dataframe thead th {\n",
       "        text-align: right;\n",
       "    }\n",
       "</style>\n",
       "<table border=\"1\" class=\"dataframe\">\n",
       "  <thead>\n",
       "    <tr style=\"text-align: right;\">\n",
       "      <th></th>\n",
       "      <th>Date</th>\n",
       "      <th>Day</th>\n",
       "      <th>Temperature</th>\n",
       "      <th>Rainfall</th>\n",
       "      <th>Flyers</th>\n",
       "      <th>Price</th>\n",
       "      <th>Sales</th>\n",
       "    </tr>\n",
       "  </thead>\n",
       "  <tbody>\n",
       "    <tr>\n",
       "      <th>166</th>\n",
       "      <td>2017-06-16</td>\n",
       "      <td>Friday</td>\n",
       "      <td>99.3</td>\n",
       "      <td>0.47</td>\n",
       "      <td>77</td>\n",
       "      <td>0.5</td>\n",
       "      <td>41</td>\n",
       "    </tr>\n",
       "    <tr>\n",
       "      <th>194</th>\n",
       "      <td>2017-07-14</td>\n",
       "      <td>Friday</td>\n",
       "      <td>92.0</td>\n",
       "      <td>0.50</td>\n",
       "      <td>80</td>\n",
       "      <td>0.5</td>\n",
       "      <td>40</td>\n",
       "    </tr>\n",
       "    <tr>\n",
       "      <th>324</th>\n",
       "      <td>2017-11-21</td>\n",
       "      <td>Tuesday</td>\n",
       "      <td>47.0</td>\n",
       "      <td>0.95</td>\n",
       "      <td>-38</td>\n",
       "      <td>0.5</td>\n",
       "      <td>20</td>\n",
       "    </tr>\n",
       "  </tbody>\n",
       "</table>\n",
       "</div>"
      ],
      "text/plain": [
       "          Date      Day  Temperature  Rainfall  Flyers  Price  Sales\n",
       "166 2017-06-16   Friday         99.3      0.47      77    0.5     41\n",
       "194 2017-07-14   Friday         92.0      0.50      80    0.5     40\n",
       "324 2017-11-21  Tuesday         47.0      0.95     -38    0.5     20"
      ]
     },
     "execution_count": 33,
     "metadata": {},
     "output_type": "execute_result"
    }
   ],
   "source": [
    "df[(df['Flyers'] < inner_lower_fence) | (df['Flyers'] > inner_upper_fence)]"
   ]
  },
  {
   "cell_type": "code",
   "execution_count": null,
   "id": "91fc2794",
   "metadata": {},
   "outputs": [],
   "source": [
    "# The negative flyer amount should be removed it was probably an input error."
   ]
  },
  {
   "cell_type": "code",
   "execution_count": 34,
   "id": "c89440ff",
   "metadata": {},
   "outputs": [
    {
     "data": {
      "text/plain": [
       "0.26"
      ]
     },
     "execution_count": 34,
     "metadata": {},
     "output_type": "execute_result"
    }
   ],
   "source": [
    "# start with an inner fence calculation\n",
    "multiplier = 1.5\n",
    "# calculate our q1 and q3\n",
    "q1 = df.Rainfall.quantile(0.25)\n",
    "q3 = df.Rainfall.quantile(0.75)\n",
    "iqr = q3 - q1\n",
    "iqr"
   ]
  },
  {
   "cell_type": "code",
   "execution_count": 35,
   "id": "93c135cf",
   "metadata": {},
   "outputs": [],
   "source": [
    "inner_lower_fence = q1 - (multiplier * iqr)\n",
    "inner_upper_fence = q3 + (multiplier * iqr)"
   ]
  },
  {
   "cell_type": "code",
   "execution_count": 36,
   "id": "31f44daf",
   "metadata": {},
   "outputs": [
    {
     "data": {
      "text/html": [
       "<div>\n",
       "<style scoped>\n",
       "    .dataframe tbody tr th:only-of-type {\n",
       "        vertical-align: middle;\n",
       "    }\n",
       "\n",
       "    .dataframe tbody tr th {\n",
       "        vertical-align: top;\n",
       "    }\n",
       "\n",
       "    .dataframe thead th {\n",
       "        text-align: right;\n",
       "    }\n",
       "</style>\n",
       "<table border=\"1\" class=\"dataframe\">\n",
       "  <thead>\n",
       "    <tr style=\"text-align: right;\">\n",
       "      <th></th>\n",
       "      <th>Date</th>\n",
       "      <th>Day</th>\n",
       "      <th>Temperature</th>\n",
       "      <th>Rainfall</th>\n",
       "      <th>Flyers</th>\n",
       "      <th>Price</th>\n",
       "      <th>Sales</th>\n",
       "    </tr>\n",
       "  </thead>\n",
       "  <tbody>\n",
       "    <tr>\n",
       "      <th>0</th>\n",
       "      <td>2017-01-01</td>\n",
       "      <td>Sunday</td>\n",
       "      <td>27.0</td>\n",
       "      <td>2.00</td>\n",
       "      <td>15</td>\n",
       "      <td>0.5</td>\n",
       "      <td>10</td>\n",
       "    </tr>\n",
       "    <tr>\n",
       "      <th>1</th>\n",
       "      <td>2017-01-02</td>\n",
       "      <td>Monday</td>\n",
       "      <td>28.9</td>\n",
       "      <td>1.33</td>\n",
       "      <td>15</td>\n",
       "      <td>0.5</td>\n",
       "      <td>13</td>\n",
       "    </tr>\n",
       "    <tr>\n",
       "      <th>2</th>\n",
       "      <td>2017-01-03</td>\n",
       "      <td>Tuesday</td>\n",
       "      <td>34.5</td>\n",
       "      <td>1.33</td>\n",
       "      <td>27</td>\n",
       "      <td>0.5</td>\n",
       "      <td>15</td>\n",
       "    </tr>\n",
       "    <tr>\n",
       "      <th>5</th>\n",
       "      <td>2017-01-06</td>\n",
       "      <td>Friday</td>\n",
       "      <td>25.3</td>\n",
       "      <td>1.54</td>\n",
       "      <td>23</td>\n",
       "      <td>0.5</td>\n",
       "      <td>11</td>\n",
       "    </tr>\n",
       "    <tr>\n",
       "      <th>6</th>\n",
       "      <td>2017-01-07</td>\n",
       "      <td>Saturday</td>\n",
       "      <td>32.9</td>\n",
       "      <td>1.54</td>\n",
       "      <td>19</td>\n",
       "      <td>0.5</td>\n",
       "      <td>13</td>\n",
       "    </tr>\n",
       "    <tr>\n",
       "      <th>10</th>\n",
       "      <td>2017-01-11</td>\n",
       "      <td>Wednesday</td>\n",
       "      <td>32.6</td>\n",
       "      <td>1.54</td>\n",
       "      <td>23</td>\n",
       "      <td>0.5</td>\n",
       "      <td>12</td>\n",
       "    </tr>\n",
       "    <tr>\n",
       "      <th>11</th>\n",
       "      <td>2017-01-12</td>\n",
       "      <td>Thursday</td>\n",
       "      <td>38.2</td>\n",
       "      <td>1.33</td>\n",
       "      <td>16</td>\n",
       "      <td>0.5</td>\n",
       "      <td>14</td>\n",
       "    </tr>\n",
       "    <tr>\n",
       "      <th>12</th>\n",
       "      <td>2017-01-13</td>\n",
       "      <td>Friday</td>\n",
       "      <td>37.5</td>\n",
       "      <td>1.33</td>\n",
       "      <td>19</td>\n",
       "      <td>0.5</td>\n",
       "      <td>15</td>\n",
       "    </tr>\n",
       "    <tr>\n",
       "      <th>15</th>\n",
       "      <td>2017-01-16</td>\n",
       "      <td>Monday</td>\n",
       "      <td>30.6</td>\n",
       "      <td>1.67</td>\n",
       "      <td>24</td>\n",
       "      <td>0.5</td>\n",
       "      <td>12</td>\n",
       "    </tr>\n",
       "    <tr>\n",
       "      <th>16</th>\n",
       "      <td>2017-01-17</td>\n",
       "      <td>Tuesday</td>\n",
       "      <td>32.2</td>\n",
       "      <td>1.43</td>\n",
       "      <td>26</td>\n",
       "      <td>0.5</td>\n",
       "      <td>14</td>\n",
       "    </tr>\n",
       "    <tr>\n",
       "      <th>19</th>\n",
       "      <td>2017-01-20</td>\n",
       "      <td>Friday</td>\n",
       "      <td>31.6</td>\n",
       "      <td>1.43</td>\n",
       "      <td>20</td>\n",
       "      <td>0.5</td>\n",
       "      <td>12</td>\n",
       "    </tr>\n",
       "    <tr>\n",
       "      <th>23</th>\n",
       "      <td>2017-01-24</td>\n",
       "      <td>Tuesday</td>\n",
       "      <td>28.6</td>\n",
       "      <td>1.54</td>\n",
       "      <td>20</td>\n",
       "      <td>0.5</td>\n",
       "      <td>12</td>\n",
       "    </tr>\n",
       "    <tr>\n",
       "      <th>27</th>\n",
       "      <td>2017-01-28</td>\n",
       "      <td>Saturday</td>\n",
       "      <td>34.9</td>\n",
       "      <td>1.33</td>\n",
       "      <td>15</td>\n",
       "      <td>0.5</td>\n",
       "      <td>13</td>\n",
       "    </tr>\n",
       "    <tr>\n",
       "      <th>28</th>\n",
       "      <td>2017-01-29</td>\n",
       "      <td>Sunday</td>\n",
       "      <td>35.2</td>\n",
       "      <td>1.33</td>\n",
       "      <td>27</td>\n",
       "      <td>0.5</td>\n",
       "      <td>14</td>\n",
       "    </tr>\n",
       "    <tr>\n",
       "      <th>337</th>\n",
       "      <td>2017-12-04</td>\n",
       "      <td>Monday</td>\n",
       "      <td>34.9</td>\n",
       "      <td>1.54</td>\n",
       "      <td>16</td>\n",
       "      <td>0.5</td>\n",
       "      <td>13</td>\n",
       "    </tr>\n",
       "    <tr>\n",
       "      <th>338</th>\n",
       "      <td>2017-12-05</td>\n",
       "      <td>Tuesday</td>\n",
       "      <td>22.0</td>\n",
       "      <td>1.82</td>\n",
       "      <td>11</td>\n",
       "      <td>0.5</td>\n",
       "      <td>10</td>\n",
       "    </tr>\n",
       "    <tr>\n",
       "      <th>342</th>\n",
       "      <td>2017-12-09</td>\n",
       "      <td>Saturday</td>\n",
       "      <td>31.2</td>\n",
       "      <td>1.43</td>\n",
       "      <td>19</td>\n",
       "      <td>0.5</td>\n",
       "      <td>14</td>\n",
       "    </tr>\n",
       "    <tr>\n",
       "      <th>343</th>\n",
       "      <td>2017-12-10</td>\n",
       "      <td>Sunday</td>\n",
       "      <td>31.3</td>\n",
       "      <td>1.82</td>\n",
       "      <td>15</td>\n",
       "      <td>0.5</td>\n",
       "      <td>11</td>\n",
       "    </tr>\n",
       "    <tr>\n",
       "      <th>345</th>\n",
       "      <td>2017-12-12</td>\n",
       "      <td>Tuesday</td>\n",
       "      <td>33.5</td>\n",
       "      <td>1.33</td>\n",
       "      <td>22</td>\n",
       "      <td>0.5</td>\n",
       "      <td>15</td>\n",
       "    </tr>\n",
       "    <tr>\n",
       "      <th>346</th>\n",
       "      <td>2017-12-13</td>\n",
       "      <td>Wednesday</td>\n",
       "      <td>32.2</td>\n",
       "      <td>1.43</td>\n",
       "      <td>26</td>\n",
       "      <td>0.5</td>\n",
       "      <td>14</td>\n",
       "    </tr>\n",
       "    <tr>\n",
       "      <th>347</th>\n",
       "      <td>2017-12-14</td>\n",
       "      <td>Thursday</td>\n",
       "      <td>31.9</td>\n",
       "      <td>1.54</td>\n",
       "      <td>24</td>\n",
       "      <td>0.5</td>\n",
       "      <td>13</td>\n",
       "    </tr>\n",
       "    <tr>\n",
       "      <th>350</th>\n",
       "      <td>2017-12-17</td>\n",
       "      <td>Sunday</td>\n",
       "      <td>32.2</td>\n",
       "      <td>1.33</td>\n",
       "      <td>16</td>\n",
       "      <td>0.5</td>\n",
       "      <td>14</td>\n",
       "    </tr>\n",
       "    <tr>\n",
       "      <th>351</th>\n",
       "      <td>2017-12-18</td>\n",
       "      <td>Monday</td>\n",
       "      <td>30.9</td>\n",
       "      <td>1.43</td>\n",
       "      <td>27</td>\n",
       "      <td>0.5</td>\n",
       "      <td>13</td>\n",
       "    </tr>\n",
       "    <tr>\n",
       "      <th>354</th>\n",
       "      <td>2017-12-21</td>\n",
       "      <td>Thursday</td>\n",
       "      <td>40.5</td>\n",
       "      <td>1.33</td>\n",
       "      <td>23</td>\n",
       "      <td>0.5</td>\n",
       "      <td>15</td>\n",
       "    </tr>\n",
       "    <tr>\n",
       "      <th>355</th>\n",
       "      <td>2017-12-22</td>\n",
       "      <td>Friday</td>\n",
       "      <td>30.9</td>\n",
       "      <td>1.54</td>\n",
       "      <td>17</td>\n",
       "      <td>0.5</td>\n",
       "      <td>13</td>\n",
       "    </tr>\n",
       "    <tr>\n",
       "      <th>359</th>\n",
       "      <td>2017-12-26</td>\n",
       "      <td>Tuesday</td>\n",
       "      <td>28.9</td>\n",
       "      <td>1.43</td>\n",
       "      <td>23</td>\n",
       "      <td>0.5</td>\n",
       "      <td>13</td>\n",
       "    </tr>\n",
       "    <tr>\n",
       "      <th>363</th>\n",
       "      <td>2017-12-30</td>\n",
       "      <td>Saturday</td>\n",
       "      <td>30.9</td>\n",
       "      <td>1.43</td>\n",
       "      <td>22</td>\n",
       "      <td>0.5</td>\n",
       "      <td>13</td>\n",
       "    </tr>\n",
       "    <tr>\n",
       "      <th>364</th>\n",
       "      <td>2017-12-31</td>\n",
       "      <td>Sunday</td>\n",
       "      <td>15.1</td>\n",
       "      <td>2.50</td>\n",
       "      <td>9</td>\n",
       "      <td>0.5</td>\n",
       "      <td>7</td>\n",
       "    </tr>\n",
       "  </tbody>\n",
       "</table>\n",
       "</div>"
      ],
      "text/plain": [
       "          Date        Day  Temperature  Rainfall  Flyers  Price  Sales\n",
       "0   2017-01-01     Sunday         27.0      2.00      15    0.5     10\n",
       "1   2017-01-02     Monday         28.9      1.33      15    0.5     13\n",
       "2   2017-01-03    Tuesday         34.5      1.33      27    0.5     15\n",
       "5   2017-01-06     Friday         25.3      1.54      23    0.5     11\n",
       "6   2017-01-07   Saturday         32.9      1.54      19    0.5     13\n",
       "10  2017-01-11  Wednesday         32.6      1.54      23    0.5     12\n",
       "11  2017-01-12   Thursday         38.2      1.33      16    0.5     14\n",
       "12  2017-01-13     Friday         37.5      1.33      19    0.5     15\n",
       "15  2017-01-16     Monday         30.6      1.67      24    0.5     12\n",
       "16  2017-01-17    Tuesday         32.2      1.43      26    0.5     14\n",
       "19  2017-01-20     Friday         31.6      1.43      20    0.5     12\n",
       "23  2017-01-24    Tuesday         28.6      1.54      20    0.5     12\n",
       "27  2017-01-28   Saturday         34.9      1.33      15    0.5     13\n",
       "28  2017-01-29     Sunday         35.2      1.33      27    0.5     14\n",
       "337 2017-12-04     Monday         34.9      1.54      16    0.5     13\n",
       "338 2017-12-05    Tuesday         22.0      1.82      11    0.5     10\n",
       "342 2017-12-09   Saturday         31.2      1.43      19    0.5     14\n",
       "343 2017-12-10     Sunday         31.3      1.82      15    0.5     11\n",
       "345 2017-12-12    Tuesday         33.5      1.33      22    0.5     15\n",
       "346 2017-12-13  Wednesday         32.2      1.43      26    0.5     14\n",
       "347 2017-12-14   Thursday         31.9      1.54      24    0.5     13\n",
       "350 2017-12-17     Sunday         32.2      1.33      16    0.5     14\n",
       "351 2017-12-18     Monday         30.9      1.43      27    0.5     13\n",
       "354 2017-12-21   Thursday         40.5      1.33      23    0.5     15\n",
       "355 2017-12-22     Friday         30.9      1.54      17    0.5     13\n",
       "359 2017-12-26    Tuesday         28.9      1.43      23    0.5     13\n",
       "363 2017-12-30   Saturday         30.9      1.43      22    0.5     13\n",
       "364 2017-12-31     Sunday         15.1      2.50       9    0.5      7"
      ]
     },
     "execution_count": 36,
     "metadata": {},
     "output_type": "execute_result"
    }
   ],
   "source": [
    "df[(df['Rainfall'] < inner_lower_fence) | (df['Rainfall'] > inner_upper_fence)]"
   ]
  },
  {
   "cell_type": "code",
   "execution_count": null,
   "id": "2f711565",
   "metadata": {},
   "outputs": [],
   "source": [
    "# I think that these should all stay in, none of the rainfall amounts seem impossible."
   ]
  },
  {
   "cell_type": "code",
   "execution_count": 40,
   "id": "88623586",
   "metadata": {},
   "outputs": [
    {
     "data": {
      "text/plain": [
       "22.0"
      ]
     },
     "execution_count": 40,
     "metadata": {},
     "output_type": "execute_result"
    }
   ],
   "source": [
    "# start with an inner fence calculation\n",
    "multiplier = 1.5\n",
    "# calculate our q1 and q3\n",
    "q1 = df.Temperature.quantile(0.25)\n",
    "q3 = df.Temperature.quantile(0.75)\n",
    "iqr = q3 - q1\n",
    "iqr"
   ]
  },
  {
   "cell_type": "code",
   "execution_count": 41,
   "id": "6886ffd4",
   "metadata": {},
   "outputs": [],
   "source": [
    "inner_lower_fence = q1 - (multiplier * iqr)\n",
    "inner_upper_fence = q3 + (multiplier * iqr)"
   ]
  },
  {
   "cell_type": "code",
   "execution_count": 42,
   "id": "e023dad6",
   "metadata": {},
   "outputs": [
    {
     "data": {
      "text/html": [
       "<div>\n",
       "<style scoped>\n",
       "    .dataframe tbody tr th:only-of-type {\n",
       "        vertical-align: middle;\n",
       "    }\n",
       "\n",
       "    .dataframe tbody tr th {\n",
       "        vertical-align: top;\n",
       "    }\n",
       "\n",
       "    .dataframe thead th {\n",
       "        text-align: right;\n",
       "    }\n",
       "</style>\n",
       "<table border=\"1\" class=\"dataframe\">\n",
       "  <thead>\n",
       "    <tr style=\"text-align: right;\">\n",
       "      <th></th>\n",
       "      <th>Date</th>\n",
       "      <th>Day</th>\n",
       "      <th>Temperature</th>\n",
       "      <th>Rainfall</th>\n",
       "      <th>Flyers</th>\n",
       "      <th>Price</th>\n",
       "      <th>Sales</th>\n",
       "    </tr>\n",
       "  </thead>\n",
       "  <tbody>\n",
       "    <tr>\n",
       "      <th>41</th>\n",
       "      <td>2017-02-11</td>\n",
       "      <td>Saturday</td>\n",
       "      <td>212.0</td>\n",
       "      <td>0.91</td>\n",
       "      <td>35</td>\n",
       "      <td>0.5</td>\n",
       "      <td>21</td>\n",
       "    </tr>\n",
       "    <tr>\n",
       "      <th>364</th>\n",
       "      <td>2017-12-31</td>\n",
       "      <td>Sunday</td>\n",
       "      <td>15.1</td>\n",
       "      <td>2.50</td>\n",
       "      <td>9</td>\n",
       "      <td>0.5</td>\n",
       "      <td>7</td>\n",
       "    </tr>\n",
       "  </tbody>\n",
       "</table>\n",
       "</div>"
      ],
      "text/plain": [
       "          Date       Day  Temperature  Rainfall  Flyers  Price  Sales\n",
       "41  2017-02-11  Saturday        212.0      0.91      35    0.5     21\n",
       "364 2017-12-31    Sunday         15.1      2.50       9    0.5      7"
      ]
     },
     "execution_count": 42,
     "metadata": {},
     "output_type": "execute_result"
    }
   ],
   "source": [
    "df[(df['Temperature'] < inner_lower_fence) | (df['Temperature'] > inner_upper_fence)]"
   ]
  },
  {
   "cell_type": "code",
   "execution_count": null,
   "id": "c3f5794f",
   "metadata": {},
   "outputs": [],
   "source": [
    "# The Temperature of 212 should be removed because this is not possible"
   ]
  },
  {
   "cell_type": "markdown",
   "id": "f2aee851",
   "metadata": {},
   "source": [
    "### b) Using the multiplier of 3, IQR Range Rule, and the lower and upper bounds, identify the outliers below the lower bound in each colum of lemonade.csv. Do these lower outliers make sense?Which outliers should be kept?"
   ]
  },
  {
   "cell_type": "code",
   "execution_count": 43,
   "id": "b7e9e4a0",
   "metadata": {},
   "outputs": [],
   "source": [
    "multiplier = 3.0"
   ]
  },
  {
   "cell_type": "code",
   "execution_count": 44,
   "id": "8af76df5",
   "metadata": {},
   "outputs": [
    {
     "data": {
      "text/plain": [
       "18.0"
      ]
     },
     "execution_count": 44,
     "metadata": {},
     "output_type": "execute_result"
    }
   ],
   "source": [
    "# calculate our q1 and q3\n",
    "q1 = df.Flyers.quantile(0.25)\n",
    "q3 = df.Flyers.quantile(0.75)\n",
    "iqr = q3 - q1\n",
    "iqr"
   ]
  },
  {
   "cell_type": "code",
   "execution_count": 45,
   "id": "b3503589",
   "metadata": {},
   "outputs": [],
   "source": [
    "inner_lower_fence = q1 - (multiplier * iqr)\n",
    "inner_upper_fence = q3 + (multiplier * iqr)"
   ]
  },
  {
   "cell_type": "code",
   "execution_count": 46,
   "id": "f20a60cf",
   "metadata": {},
   "outputs": [
    {
     "data": {
      "text/html": [
       "<div>\n",
       "<style scoped>\n",
       "    .dataframe tbody tr th:only-of-type {\n",
       "        vertical-align: middle;\n",
       "    }\n",
       "\n",
       "    .dataframe tbody tr th {\n",
       "        vertical-align: top;\n",
       "    }\n",
       "\n",
       "    .dataframe thead th {\n",
       "        text-align: right;\n",
       "    }\n",
       "</style>\n",
       "<table border=\"1\" class=\"dataframe\">\n",
       "  <thead>\n",
       "    <tr style=\"text-align: right;\">\n",
       "      <th></th>\n",
       "      <th>Date</th>\n",
       "      <th>Day</th>\n",
       "      <th>Temperature</th>\n",
       "      <th>Rainfall</th>\n",
       "      <th>Flyers</th>\n",
       "      <th>Price</th>\n",
       "      <th>Sales</th>\n",
       "    </tr>\n",
       "  </thead>\n",
       "  <tbody>\n",
       "    <tr>\n",
       "      <th>324</th>\n",
       "      <td>2017-11-21</td>\n",
       "      <td>Tuesday</td>\n",
       "      <td>47.0</td>\n",
       "      <td>0.95</td>\n",
       "      <td>-38</td>\n",
       "      <td>0.5</td>\n",
       "      <td>20</td>\n",
       "    </tr>\n",
       "  </tbody>\n",
       "</table>\n",
       "</div>"
      ],
      "text/plain": [
       "          Date      Day  Temperature  Rainfall  Flyers  Price  Sales\n",
       "324 2017-11-21  Tuesday         47.0      0.95     -38    0.5     20"
      ]
     },
     "execution_count": 46,
     "metadata": {},
     "output_type": "execute_result"
    }
   ],
   "source": [
    "df[(df['Flyers'] < inner_lower_fence) | (df['Flyers'] > inner_upper_fence)]"
   ]
  },
  {
   "cell_type": "code",
   "execution_count": 47,
   "id": "2e6e797d",
   "metadata": {},
   "outputs": [
    {
     "data": {
      "text/plain": [
       "0.26"
      ]
     },
     "execution_count": 47,
     "metadata": {},
     "output_type": "execute_result"
    }
   ],
   "source": [
    "# calculate our q1 and q3\n",
    "q1 = df.Rainfall.quantile(0.25)\n",
    "q3 = df.Rainfall.quantile(0.75)\n",
    "iqr = q3 - q1\n",
    "iqr"
   ]
  },
  {
   "cell_type": "code",
   "execution_count": 48,
   "id": "36d82a51",
   "metadata": {},
   "outputs": [],
   "source": [
    "inner_lower_fence = q1 - (multiplier * iqr)\n",
    "inner_upper_fence = q3 + (multiplier * iqr)"
   ]
  },
  {
   "cell_type": "code",
   "execution_count": 49,
   "id": "c8495018",
   "metadata": {},
   "outputs": [
    {
     "data": {
      "text/html": [
       "<div>\n",
       "<style scoped>\n",
       "    .dataframe tbody tr th:only-of-type {\n",
       "        vertical-align: middle;\n",
       "    }\n",
       "\n",
       "    .dataframe tbody tr th {\n",
       "        vertical-align: top;\n",
       "    }\n",
       "\n",
       "    .dataframe thead th {\n",
       "        text-align: right;\n",
       "    }\n",
       "</style>\n",
       "<table border=\"1\" class=\"dataframe\">\n",
       "  <thead>\n",
       "    <tr style=\"text-align: right;\">\n",
       "      <th></th>\n",
       "      <th>Date</th>\n",
       "      <th>Day</th>\n",
       "      <th>Temperature</th>\n",
       "      <th>Rainfall</th>\n",
       "      <th>Flyers</th>\n",
       "      <th>Price</th>\n",
       "      <th>Sales</th>\n",
       "    </tr>\n",
       "  </thead>\n",
       "  <tbody>\n",
       "    <tr>\n",
       "      <th>0</th>\n",
       "      <td>2017-01-01</td>\n",
       "      <td>Sunday</td>\n",
       "      <td>27.0</td>\n",
       "      <td>2.00</td>\n",
       "      <td>15</td>\n",
       "      <td>0.5</td>\n",
       "      <td>10</td>\n",
       "    </tr>\n",
       "    <tr>\n",
       "      <th>338</th>\n",
       "      <td>2017-12-05</td>\n",
       "      <td>Tuesday</td>\n",
       "      <td>22.0</td>\n",
       "      <td>1.82</td>\n",
       "      <td>11</td>\n",
       "      <td>0.5</td>\n",
       "      <td>10</td>\n",
       "    </tr>\n",
       "    <tr>\n",
       "      <th>343</th>\n",
       "      <td>2017-12-10</td>\n",
       "      <td>Sunday</td>\n",
       "      <td>31.3</td>\n",
       "      <td>1.82</td>\n",
       "      <td>15</td>\n",
       "      <td>0.5</td>\n",
       "      <td>11</td>\n",
       "    </tr>\n",
       "    <tr>\n",
       "      <th>364</th>\n",
       "      <td>2017-12-31</td>\n",
       "      <td>Sunday</td>\n",
       "      <td>15.1</td>\n",
       "      <td>2.50</td>\n",
       "      <td>9</td>\n",
       "      <td>0.5</td>\n",
       "      <td>7</td>\n",
       "    </tr>\n",
       "  </tbody>\n",
       "</table>\n",
       "</div>"
      ],
      "text/plain": [
       "          Date      Day  Temperature  Rainfall  Flyers  Price  Sales\n",
       "0   2017-01-01   Sunday         27.0      2.00      15    0.5     10\n",
       "338 2017-12-05  Tuesday         22.0      1.82      11    0.5     10\n",
       "343 2017-12-10   Sunday         31.3      1.82      15    0.5     11\n",
       "364 2017-12-31   Sunday         15.1      2.50       9    0.5      7"
      ]
     },
     "execution_count": 49,
     "metadata": {},
     "output_type": "execute_result"
    }
   ],
   "source": [
    "df[(df['Rainfall'] < inner_lower_fence) | (df['Rainfall'] > inner_upper_fence)]"
   ]
  },
  {
   "cell_type": "code",
   "execution_count": 53,
   "id": "6a8a4831",
   "metadata": {},
   "outputs": [
    {
     "data": {
      "text/plain": [
       "22.0"
      ]
     },
     "execution_count": 53,
     "metadata": {},
     "output_type": "execute_result"
    }
   ],
   "source": [
    "# calculate our q1 and q3\n",
    "q1 = df.Temperature.quantile(0.25)\n",
    "q3 = df.Temperature.quantile(0.75)\n",
    "iqr = q3 - q1\n",
    "iqr"
   ]
  },
  {
   "cell_type": "code",
   "execution_count": 54,
   "id": "6cf047c9",
   "metadata": {},
   "outputs": [],
   "source": [
    "inner_lower_fence = q1 - (multiplier * iqr)\n",
    "inner_upper_fence = q3 + (multiplier * iqr)"
   ]
  },
  {
   "cell_type": "code",
   "execution_count": 55,
   "id": "7b33d3c4",
   "metadata": {},
   "outputs": [
    {
     "data": {
      "text/html": [
       "<div>\n",
       "<style scoped>\n",
       "    .dataframe tbody tr th:only-of-type {\n",
       "        vertical-align: middle;\n",
       "    }\n",
       "\n",
       "    .dataframe tbody tr th {\n",
       "        vertical-align: top;\n",
       "    }\n",
       "\n",
       "    .dataframe thead th {\n",
       "        text-align: right;\n",
       "    }\n",
       "</style>\n",
       "<table border=\"1\" class=\"dataframe\">\n",
       "  <thead>\n",
       "    <tr style=\"text-align: right;\">\n",
       "      <th></th>\n",
       "      <th>Date</th>\n",
       "      <th>Day</th>\n",
       "      <th>Temperature</th>\n",
       "      <th>Rainfall</th>\n",
       "      <th>Flyers</th>\n",
       "      <th>Price</th>\n",
       "      <th>Sales</th>\n",
       "    </tr>\n",
       "  </thead>\n",
       "  <tbody>\n",
       "    <tr>\n",
       "      <th>41</th>\n",
       "      <td>2017-02-11</td>\n",
       "      <td>Saturday</td>\n",
       "      <td>212.0</td>\n",
       "      <td>0.91</td>\n",
       "      <td>35</td>\n",
       "      <td>0.5</td>\n",
       "      <td>21</td>\n",
       "    </tr>\n",
       "  </tbody>\n",
       "</table>\n",
       "</div>"
      ],
      "text/plain": [
       "         Date       Day  Temperature  Rainfall  Flyers  Price  Sales\n",
       "41 2017-02-11  Saturday        212.0      0.91      35    0.5     21"
      ]
     },
     "execution_count": 55,
     "metadata": {},
     "output_type": "execute_result"
    }
   ],
   "source": [
    "df[(df['Temperature'] < inner_lower_fence) | (df['Temperature'] > inner_upper_fence)]"
   ]
  },
  {
   "cell_type": "markdown",
   "id": "2e1d594d",
   "metadata": {},
   "source": [
    "## 2. Identify if any columns in lemonade.csv are normally distributed. For normally distributed columns:"
   ]
  },
  {
   "cell_type": "code",
   "execution_count": 57,
   "id": "859996b6",
   "metadata": {},
   "outputs": [
    {
     "data": {
      "image/png": "[encoded data removed]",
      "text/plain": [
       "<Figure size 432x288 with 6 Axes>"
      ]
     },
     "metadata": {
      "needs_background": "light"
     },
     "output_type": "display_data"
    }
   ],
   "source": [
    "df.hist()\n",
    "plt.show()"
   ]
  },
  {
   "cell_type": "code",
   "execution_count": null,
   "id": "25872ed8",
   "metadata": {},
   "outputs": [],
   "source": [
    "# Normally distributed columns: price, sales, temperature."
   ]
  },
  {
   "cell_type": "markdown",
   "id": "cad0f07a",
   "metadata": {},
   "source": [
    "### a) Use a 2 sigma decision rule to isolate the outliers."
   ]
  },
  {
   "cell_type": "code",
   "execution_count": null,
   "id": "fa24e5a6",
   "metadata": {},
   "outputs": [],
   "source": []
  },
  {
   "cell_type": "markdown",
   "id": "3a72f261",
   "metadata": {},
   "source": [
    "## b) Do these make sense?"
   ]
  },
  {
   "cell_type": "code",
   "execution_count": null,
   "id": "0f0b9e7c",
   "metadata": {},
   "outputs": [],
   "source": []
  },
  {
   "cell_type": "markdown",
   "id": "6cfa68b2",
   "metadata": {},
   "source": [
    "## c) Should certain outliers be kept or removed?"
   ]
  },
  {
   "cell_type": "code",
   "execution_count": null,
   "id": "9fa31cdd",
   "metadata": {},
   "outputs": [],
   "source": []
  }
 ],
 "metadata": {
  "kernelspec": {
   "display_name": "Python 3",
   "language": "python",
   "name": "python3"
  },
  "language_info": {
   "codemirror_mode": {
    "name": "ipython",
    "version": 3
   },
   "file_extension": ".py",
   "mimetype": "text/x-python",
   "name": "python",
   "nbconvert_exporter": "python",
   "pygments_lexer": "ipython3",
   "version": "3.8.8"
  }
 },
 "nbformat": 4,
 "nbformat_minor": 5
}
